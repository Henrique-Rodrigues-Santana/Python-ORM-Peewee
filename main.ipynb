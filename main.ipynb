{
 "cells": [
  {
   "cell_type": "markdown",
   "metadata": {},
   "source": [
    "## Desenvolvendo conexão com banco de dandos sqlite ultilizando o ORM Peewee."
   ]
  },
  {
   "cell_type": "markdown",
   "metadata": {},
   "source": [
    "#### Instalando Dependencias \n",
    "\n",
    "`pip install peewee`"
   ]
  },
  {
   "cell_type": "markdown",
   "metadata": {},
   "source": [
    "#### Inportando biblioteca para o arquivo database.py"
   ]
  },
  {
   "cell_type": "code",
   "execution_count": 1,
   "metadata": {},
   "outputs": [],
   "source": [
    "from peewee import *\n"
   ]
  },
  {
   "cell_type": "markdown",
   "metadata": {},
   "source": [
    "#### Aqui utilizo uma classe do peewee para criar um banco de dados sqlite.\n"
   ]
  },
  {
   "cell_type": "code",
   "execution_count": null,
   "metadata": {},
   "outputs": [],
   "source": [
    "db = SqliteDatabase('freelancers.db')"
   ]
  },
  {
   "cell_type": "markdown",
   "metadata": {},
   "source": [
    "#### Aqui criarei as tabelas, nela utilizo o model do peewee para definir como será as colunas da tabela.\n",
    "##### A chave primária é adicionada altomaticamente ."
   ]
  },
  {
   "cell_type": "code",
   "execution_count": null,
   "metadata": {},
   "outputs": [],
   "source": [
    "class Usuario(Model):\n",
    "    nome = CharField(), # aqui defino que ele receberar texto\n",
    "    email = CharField(unique=True), # aqui defino que não pode ser inserinos dados iguais no banco\n",
    "    senha = CharField()\n",
    "\n",
    "    # aqui defino em qual banco vai ser criada a tabela.\n",
    "    class Meta:\n",
    "        database = db"
   ]
  },
  {
   "cell_type": "markdown",
   "metadata": {},
   "source": [
    "#### Agora vou criar outra tabela, dessa vez utilizando uma chave extrangeira.\n"
   ]
  },
  {
   "cell_type": "code",
   "execution_count": null,
   "metadata": {},
   "outputs": [],
   "source": [
    "class Anuncio(Model):\n",
    "    usuario = ForeignKeyField(Usuario, backref='usuario'), # aqui eu vou capturar uma chave estrangeira importada da classe usuário\n",
    "    titulo = CharField(),\n",
    "    descricao = TextField(),\n",
    "    valor = DecimalField()\n",
    "\n",
    "    class Meta:\n",
    "        database = db"
   ]
  },
  {
   "cell_type": "markdown",
   "metadata": {},
   "source": [
    "#### Agora no arquivo main.py vamos interagir com o banco."
   ]
  },
  {
   "cell_type": "markdown",
   "metadata": {},
   "source": [
    "#### Primeiro eu vou importar o database.py"
   ]
  },
  {
   "cell_type": "code",
   "execution_count": null,
   "metadata": {},
   "outputs": [],
   "source": [
    "from database import db, Usuario, Anuncio\n"
   ]
  },
  {
   "cell_type": "markdown",
   "metadata": {},
   "source": [
    "#### Conectando com o banco de dados."
   ]
  },
  {
   "cell_type": "code",
   "execution_count": null,
   "metadata": {},
   "outputs": [],
   "source": [
    "db.conect()"
   ]
  },
  {
   "cell_type": "markdown",
   "metadata": {},
   "source": [
    "#### Criando as tabelas caso não exista."
   ]
  },
  {
   "cell_type": "code",
   "execution_count": null,
   "metadata": {},
   "outputs": [],
   "source": [
    "db.create_tables([Usuario,Anuncio])"
   ]
  },
  {
   "cell_type": "markdown",
   "metadata": {},
   "source": [
    "#### Agora criarei um novo usuario."
   ]
  },
  {
   "cell_type": "code",
   "execution_count": null,
   "metadata": {},
   "outputs": [],
   "source": [
    "usuario = Usuario.create(nome=\"henrique rodrigues\",email=\"henrique@gmail.com\",senha=\"123456\")\n",
    "print(\"novo usuario nome: {}, email{}, senha{}\".format(usuario.nome,usuario.email,usuario.senha, usuario.id))"
   ]
  },
  {
   "cell_type": "markdown",
   "metadata": {},
   "source": [
    "#### Criarei mais usuários."
   ]
  },
  {
   "cell_type": "code",
   "execution_count": null,
   "metadata": {},
   "outputs": [],
   "source": [
    "Usuario.create(nome=\"marco\",email=\"marco@gmail.com\",senha=\"125556\")\n",
    "Usuario.create(nome=\"felipe\",email=\"felipe@gmail.com\",senha=\"78956\")\n",
    "Usuario.create(nome=\"manuela\",email=\"manuela@gmail.com\",senha=\"123456\")\n",
    "Usuario.create(nome=\"beta\",email=\"beta@gmail.com\",senha=\"123456\")"
   ]
  },
  {
   "cell_type": "markdown",
   "metadata": {},
   "source": [
    "#### Agora vou listar os usuarios cadastrados."
   ]
  },
  {
   "cell_type": "code",
   "execution_count": null,
   "metadata": {},
   "outputs": [],
   "source": [
    "lista_usuarios = Usuario.select()\n",
    "print(\"Listas de Usuarios:\")\n",
    "\n",
    "for i in lista_usuarios:\n",
    "    print(i.id, i.nome, i.email)"
   ]
  },
  {
   "cell_type": "markdown",
   "metadata": {},
   "source": [
    "#### Agora vou obter um usuário pelo id."
   ]
  },
  {
   "cell_type": "code",
   "execution_count": null,
   "metadata": {},
   "outputs": [],
   "source": [
    "usuario1 = Usuario.get(Usuario.id == 1)\n",
    "print(\"Usuario 1: {}, id = {} \".format(usuario1.nome,usuario1.id))"
   ]
  },
  {
   "cell_type": "markdown",
   "metadata": {},
   "source": [
    "#### Alterando dados no banco."
   ]
  },
  {
   "cell_type": "code",
   "execution_count": null,
   "metadata": {},
   "outputs": [],
   "source": [
    "maria = Usuario.get(Usuario.email == \"maria@gmail.com\")\n",
    "maria.nome = \" Maria Python lá ele\"\n",
    "maria.save()\n",
    "\n",
    "print(\"O Usuario de id: {}, foi alterado o nome para {}\".format(maria.id,maria.nome))"
   ]
  },
  {
   "cell_type": "markdown",
   "metadata": {},
   "source": [
    "#### Testando se email já existe no sistema."
   ]
  },
  {
   "cell_type": "code",
   "execution_count": null,
   "metadata": {},
   "outputs": [],
   "source": [
    "try:\n",
    "    usuario_duplo = Usuario.create(nome='Duplicado',email=\"maria@gmail.com\",senha='1234456')\n",
    "except:\n",
    "    print(\"Erro ao criar usuario duplicado\")"
   ]
  },
  {
   "cell_type": "markdown",
   "metadata": {},
   "source": [
    "#### Agora eu vou excluir um usuário."
   ]
  },
  {
   "cell_type": "code",
   "execution_count": null,
   "metadata": {},
   "outputs": [],
   "source": [
    "usuario_deletado = Usuario.get(Usuario.email == \"maria@gmail.com\")\n",
    "usuario_deletado.delete_instance()\n",
    "\n",
    "### testando se dado realmente foi deletado.\n",
    "\n",
    "try:\n",
    "    Usuario.get(Usuario.email == \"maria@gmail.com\")\n",
    "except:\n",
    "    print(\"Deu certo, o usuário foi deletado\")"
   ]
  },
  {
   "cell_type": "markdown",
   "metadata": {},
   "source": [
    "#### Agora eu vou criar um anuncio e praticar a utilização da chave extrangera ."
   ]
  },
  {
   "cell_type": "markdown",
   "metadata": {},
   "source": [
    "#### Primeiro vou mostrar como criar um anuncio."
   ]
  },
  {
   "cell_type": "code",
   "execution_count": null,
   "metadata": {},
   "outputs": [],
   "source": [
    "maria = Usuario.get(Usuario.email == \"maria@gmail.com\")\n",
    "\n",
    "anuncio = Anuncio.create(\n",
    "    usuario = maria,\n",
    "    titulo = \"Anuncio 1\",\n",
    "    descricao = \"Descrição do anuncio 1\",\n",
    "    valor = 100\n",
    ")"
   ]
  },
  {
   "cell_type": "markdown",
   "metadata": {},
   "source": [
    "#### Agora vou criar varios anuncios."
   ]
  },
  {
   "cell_type": "code",
   "execution_count": null,
   "metadata": {},
   "outputs": [],
   "source": [
    "Anuncio.create(\n",
    "    usuario = maria,\n",
    "    titulo = \"Anuncio 2\",\n",
    "    descricao = \"Descrição do anuncio 1\",\n",
    "    valor = 100\n",
    ")\n",
    "Anuncio.create(\n",
    "    usuario = maria,\n",
    "    titulo = \"Anuncio 3\",\n",
    "    descricao = \"Descrição do anuncio 1\",\n",
    "    valor = 100\n",
    ")\n",
    "Anuncio.create(\n",
    "    usuario = maria,\n",
    "    titulo = \"Anuncio 4\",\n",
    "    descricao = \"Descrição do anuncio 1\",\n",
    "    valor = 100\n",
    ")"
   ]
  },
  {
   "cell_type": "markdown",
   "metadata": {},
   "source": [
    "#### Agora vou filtrar os anuncios relacionados a maria."
   ]
  },
  {
   "cell_type": "code",
   "execution_count": null,
   "metadata": {},
   "outputs": [],
   "source": [
    "print(\"Anuncios de Maria: \")\n",
    "#busque na tabela 'Anuncio', incluindo 'Usuario' onde o email 'Usuario.email' é igual a 'maria@gmail.com'\n",
    "anuncios_maria = Anuncio.select().join(Usuario).where(Usuario.email == \"maria@gmail.com\")\n",
    "\n",
    "for i in anuncios_maria:\n",
    "    print('-  {}, {}, {}.'.format(i.id,i.titulo,i.valor) )"
   ]
  },
  {
   "cell_type": "markdown",
   "metadata": {},
   "source": [
    "#### Agora vou deletar todos os registros da tabela `Anuncio`"
   ]
  },
  {
   "cell_type": "code",
   "execution_count": null,
   "metadata": {},
   "outputs": [],
   "source": [
    "Anuncio.delete().execute()\n",
    "\n",
    "print(\"Total de anuncios do usuario maria:{}\".format(Anuncio.select().count()))"
   ]
  }
 ],
 "metadata": {
  "kernelspec": {
   "display_name": "ambiente01",
   "language": "python",
   "name": "python3"
  },
  "language_info": {
   "codemirror_mode": {
    "name": "ipython",
    "version": 3
   },
   "file_extension": ".py",
   "mimetype": "text/x-python",
   "name": "python",
   "nbconvert_exporter": "python",
   "pygments_lexer": "ipython3",
   "version": "3.12.3"
  }
 },
 "nbformat": 4,
 "nbformat_minor": 2
}
